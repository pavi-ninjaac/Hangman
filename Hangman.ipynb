{
  "cells": [
    {
      "cell_type": "code",
      "execution_count": null,
      "metadata": {
        "id": "DX7CZHEbEUyl"
      },
      "outputs": [],
      "source": [
        "# Hangman"
      ]
    },
    {
      "cell_type": "code",
      "source": [
        "from google.colab import drive\n",
        "drive.mount('/content/drive')"
      ],
      "metadata": {
        "id": "uGW51A2NM6rl"
      },
      "execution_count": null,
      "outputs": []
    },
    {
      "cell_type": "code",
      "execution_count": 1,
      "metadata": {
        "colab": {
          "base_uri": "https://localhost:8080/"
        },
        "id": "-86e4iq4EfhW",
        "outputId": "6818474d-2c13-4d98-cacf-cd0467b8d78a"
      },
      "outputs": [
        {
          "output_type": "stream",
          "name": "stdout",
          "text": [
            "Collecting tensorflow==2.8.0\n",
            "  Downloading tensorflow-2.8.0-cp310-cp310-manylinux2010_x86_64.whl (497.6 MB)\n",
            "\u001b[2K     \u001b[90m━━━━━━━━━━━━━━━━━━━━━━━━━━━━━━━━━━━━━━━━\u001b[0m \u001b[32m497.6/497.6 MB\u001b[0m \u001b[31m2.4 MB/s\u001b[0m eta \u001b[36m0:00:00\u001b[0m\n",
            "\u001b[?25hRequirement already satisfied: absl-py>=0.4.0 in /usr/local/lib/python3.10/dist-packages (from tensorflow==2.8.0) (1.4.0)\n",
            "Requirement already satisfied: astunparse>=1.6.0 in /usr/local/lib/python3.10/dist-packages (from tensorflow==2.8.0) (1.6.3)\n",
            "Requirement already satisfied: flatbuffers>=1.12 in /usr/local/lib/python3.10/dist-packages (from tensorflow==2.8.0) (23.5.26)\n",
            "Requirement already satisfied: gast>=0.2.1 in /usr/local/lib/python3.10/dist-packages (from tensorflow==2.8.0) (0.5.4)\n",
            "Requirement already satisfied: google-pasta>=0.1.1 in /usr/local/lib/python3.10/dist-packages (from tensorflow==2.8.0) (0.2.0)\n",
            "Requirement already satisfied: h5py>=2.9.0 in /usr/local/lib/python3.10/dist-packages (from tensorflow==2.8.0) (3.9.0)\n",
            "Collecting keras-preprocessing>=1.1.1 (from tensorflow==2.8.0)\n",
            "  Downloading Keras_Preprocessing-1.1.2-py2.py3-none-any.whl (42 kB)\n",
            "\u001b[2K     \u001b[90m━━━━━━━━━━━━━━━━━━━━━━━━━━━━━━━━━━━━━━━━\u001b[0m \u001b[32m42.6/42.6 kB\u001b[0m \u001b[31m4.6 MB/s\u001b[0m eta \u001b[36m0:00:00\u001b[0m\n",
            "\u001b[?25hRequirement already satisfied: libclang>=9.0.1 in /usr/local/lib/python3.10/dist-packages (from tensorflow==2.8.0) (16.0.6)\n",
            "Requirement already satisfied: numpy>=1.20 in /usr/local/lib/python3.10/dist-packages (from tensorflow==2.8.0) (1.25.2)\n",
            "Requirement already satisfied: opt-einsum>=2.3.2 in /usr/local/lib/python3.10/dist-packages (from tensorflow==2.8.0) (3.3.0)\n",
            "Requirement already satisfied: protobuf>=3.9.2 in /usr/local/lib/python3.10/dist-packages (from tensorflow==2.8.0) (3.20.3)\n",
            "Requirement already satisfied: setuptools in /usr/local/lib/python3.10/dist-packages (from tensorflow==2.8.0) (67.7.2)\n",
            "Requirement already satisfied: six>=1.12.0 in /usr/local/lib/python3.10/dist-packages (from tensorflow==2.8.0) (1.16.0)\n",
            "Requirement already satisfied: termcolor>=1.1.0 in /usr/local/lib/python3.10/dist-packages (from tensorflow==2.8.0) (2.4.0)\n",
            "Requirement already satisfied: typing-extensions>=3.6.6 in /usr/local/lib/python3.10/dist-packages (from tensorflow==2.8.0) (4.9.0)\n",
            "Requirement already satisfied: wrapt>=1.11.0 in /usr/local/lib/python3.10/dist-packages (from tensorflow==2.8.0) (1.14.1)\n",
            "Collecting tensorboard<2.9,>=2.8 (from tensorflow==2.8.0)\n",
            "  Downloading tensorboard-2.8.0-py3-none-any.whl (5.8 MB)\n",
            "\u001b[2K     \u001b[90m━━━━━━━━━━━━━━━━━━━━━━━━━━━━━━━━━━━━━━━━\u001b[0m \u001b[32m5.8/5.8 MB\u001b[0m \u001b[31m40.5 MB/s\u001b[0m eta \u001b[36m0:00:00\u001b[0m\n",
            "\u001b[?25hCollecting tf-estimator-nightly==2.8.0.dev2021122109 (from tensorflow==2.8.0)\n",
            "  Downloading tf_estimator_nightly-2.8.0.dev2021122109-py2.py3-none-any.whl (462 kB)\n",
            "\u001b[2K     \u001b[90m━━━━━━━━━━━━━━━━━━━━━━━━━━━━━━━━━━━━━━━━\u001b[0m \u001b[32m462.5/462.5 kB\u001b[0m \u001b[31m13.2 MB/s\u001b[0m eta \u001b[36m0:00:00\u001b[0m\n",
            "\u001b[?25hCollecting keras<2.9,>=2.8.0rc0 (from tensorflow==2.8.0)\n",
            "  Downloading keras-2.8.0-py2.py3-none-any.whl (1.4 MB)\n",
            "\u001b[2K     \u001b[90m━━━━━━━━━━━━━━━━━━━━━━━━━━━━━━━━━━━━━━━━\u001b[0m \u001b[32m1.4/1.4 MB\u001b[0m \u001b[31m44.9 MB/s\u001b[0m eta \u001b[36m0:00:00\u001b[0m\n",
            "\u001b[?25hRequirement already satisfied: tensorflow-io-gcs-filesystem>=0.23.1 in /usr/local/lib/python3.10/dist-packages (from tensorflow==2.8.0) (0.36.0)\n",
            "Requirement already satisfied: grpcio<2.0,>=1.24.3 in /usr/local/lib/python3.10/dist-packages (from tensorflow==2.8.0) (1.60.1)\n",
            "Requirement already satisfied: wheel<1.0,>=0.23.0 in /usr/local/lib/python3.10/dist-packages (from astunparse>=1.6.0->tensorflow==2.8.0) (0.42.0)\n",
            "Requirement already satisfied: google-auth<3,>=1.6.3 in /usr/local/lib/python3.10/dist-packages (from tensorboard<2.9,>=2.8->tensorflow==2.8.0) (2.27.0)\n",
            "Collecting google-auth-oauthlib<0.5,>=0.4.1 (from tensorboard<2.9,>=2.8->tensorflow==2.8.0)\n",
            "  Downloading google_auth_oauthlib-0.4.6-py2.py3-none-any.whl (18 kB)\n",
            "Requirement already satisfied: markdown>=2.6.8 in /usr/local/lib/python3.10/dist-packages (from tensorboard<2.9,>=2.8->tensorflow==2.8.0) (3.5.2)\n",
            "Requirement already satisfied: requests<3,>=2.21.0 in /usr/local/lib/python3.10/dist-packages (from tensorboard<2.9,>=2.8->tensorflow==2.8.0) (2.31.0)\n",
            "Collecting tensorboard-data-server<0.7.0,>=0.6.0 (from tensorboard<2.9,>=2.8->tensorflow==2.8.0)\n",
            "  Downloading tensorboard_data_server-0.6.1-py3-none-manylinux2010_x86_64.whl (4.9 MB)\n",
            "\u001b[2K     \u001b[90m━━━━━━━━━━━━━━━━━━━━━━━━━━━━━━━━━━━━━━━━\u001b[0m \u001b[32m4.9/4.9 MB\u001b[0m \u001b[31m59.9 MB/s\u001b[0m eta \u001b[36m0:00:00\u001b[0m\n",
            "\u001b[?25hCollecting tensorboard-plugin-wit>=1.6.0 (from tensorboard<2.9,>=2.8->tensorflow==2.8.0)\n",
            "  Downloading tensorboard_plugin_wit-1.8.1-py3-none-any.whl (781 kB)\n",
            "\u001b[2K     \u001b[90m━━━━━━━━━━━━━━━━━━━━━━━━━━━━━━━━━━━━━━━━\u001b[0m \u001b[32m781.3/781.3 kB\u001b[0m \u001b[31m43.5 MB/s\u001b[0m eta \u001b[36m0:00:00\u001b[0m\n",
            "\u001b[?25hRequirement already satisfied: werkzeug>=0.11.15 in /usr/local/lib/python3.10/dist-packages (from tensorboard<2.9,>=2.8->tensorflow==2.8.0) (3.0.1)\n",
            "Requirement already satisfied: cachetools<6.0,>=2.0.0 in /usr/local/lib/python3.10/dist-packages (from google-auth<3,>=1.6.3->tensorboard<2.9,>=2.8->tensorflow==2.8.0) (5.3.2)\n",
            "Requirement already satisfied: pyasn1-modules>=0.2.1 in /usr/local/lib/python3.10/dist-packages (from google-auth<3,>=1.6.3->tensorboard<2.9,>=2.8->tensorflow==2.8.0) (0.3.0)\n",
            "Requirement already satisfied: rsa<5,>=3.1.4 in /usr/local/lib/python3.10/dist-packages (from google-auth<3,>=1.6.3->tensorboard<2.9,>=2.8->tensorflow==2.8.0) (4.9)\n",
            "Requirement already satisfied: requests-oauthlib>=0.7.0 in /usr/local/lib/python3.10/dist-packages (from google-auth-oauthlib<0.5,>=0.4.1->tensorboard<2.9,>=2.8->tensorflow==2.8.0) (1.3.1)\n",
            "Requirement already satisfied: charset-normalizer<4,>=2 in /usr/local/lib/python3.10/dist-packages (from requests<3,>=2.21.0->tensorboard<2.9,>=2.8->tensorflow==2.8.0) (3.3.2)\n",
            "Requirement already satisfied: idna<4,>=2.5 in /usr/local/lib/python3.10/dist-packages (from requests<3,>=2.21.0->tensorboard<2.9,>=2.8->tensorflow==2.8.0) (3.6)\n",
            "Requirement already satisfied: urllib3<3,>=1.21.1 in /usr/local/lib/python3.10/dist-packages (from requests<3,>=2.21.0->tensorboard<2.9,>=2.8->tensorflow==2.8.0) (2.0.7)\n",
            "Requirement already satisfied: certifi>=2017.4.17 in /usr/local/lib/python3.10/dist-packages (from requests<3,>=2.21.0->tensorboard<2.9,>=2.8->tensorflow==2.8.0) (2024.2.2)\n",
            "Requirement already satisfied: MarkupSafe>=2.1.1 in /usr/local/lib/python3.10/dist-packages (from werkzeug>=0.11.15->tensorboard<2.9,>=2.8->tensorflow==2.8.0) (2.1.5)\n",
            "Requirement already satisfied: pyasn1<0.6.0,>=0.4.6 in /usr/local/lib/python3.10/dist-packages (from pyasn1-modules>=0.2.1->google-auth<3,>=1.6.3->tensorboard<2.9,>=2.8->tensorflow==2.8.0) (0.5.1)\n",
            "Requirement already satisfied: oauthlib>=3.0.0 in /usr/local/lib/python3.10/dist-packages (from requests-oauthlib>=0.7.0->google-auth-oauthlib<0.5,>=0.4.1->tensorboard<2.9,>=2.8->tensorflow==2.8.0) (3.2.2)\n",
            "Installing collected packages: tf-estimator-nightly, tensorboard-plugin-wit, keras, tensorboard-data-server, keras-preprocessing, google-auth-oauthlib, tensorboard, tensorflow\n",
            "  Attempting uninstall: keras\n",
            "    Found existing installation: keras 2.15.0\n",
            "    Uninstalling keras-2.15.0:\n",
            "      Successfully uninstalled keras-2.15.0\n",
            "  Attempting uninstall: tensorboard-data-server\n",
            "    Found existing installation: tensorboard-data-server 0.7.2\n",
            "    Uninstalling tensorboard-data-server-0.7.2:\n",
            "      Successfully uninstalled tensorboard-data-server-0.7.2\n",
            "  Attempting uninstall: google-auth-oauthlib\n",
            "    Found existing installation: google-auth-oauthlib 1.2.0\n",
            "    Uninstalling google-auth-oauthlib-1.2.0:\n",
            "      Successfully uninstalled google-auth-oauthlib-1.2.0\n",
            "  Attempting uninstall: tensorboard\n",
            "    Found existing installation: tensorboard 2.15.2\n",
            "    Uninstalling tensorboard-2.15.2:\n",
            "      Successfully uninstalled tensorboard-2.15.2\n",
            "  Attempting uninstall: tensorflow\n",
            "    Found existing installation: tensorflow 2.15.0\n",
            "    Uninstalling tensorflow-2.15.0:\n",
            "      Successfully uninstalled tensorflow-2.15.0\n",
            "\u001b[31mERROR: pip's dependency resolver does not currently take into account all the packages that are installed. This behaviour is the source of the following dependency conflicts.\n",
            "pandas-gbq 0.19.2 requires google-auth-oauthlib>=0.7.0, but you have google-auth-oauthlib 0.4.6 which is incompatible.\u001b[0m\u001b[31m\n",
            "\u001b[0mSuccessfully installed google-auth-oauthlib-0.4.6 keras-2.8.0 keras-preprocessing-1.1.2 tensorboard-2.8.0 tensorboard-data-server-0.6.1 tensorboard-plugin-wit-1.8.1 tensorflow-2.8.0 tf-estimator-nightly-2.8.0.dev2021122109\n",
            "Collecting keras-rl2==1.0.4\n",
            "  Downloading keras_rl2-1.0.4-py3-none-any.whl (53 kB)\n",
            "\u001b[2K     \u001b[90m━━━━━━━━━━━━━━━━━━━━━━━━━━━━━━━━━━━━━━━━\u001b[0m \u001b[32m53.2/53.2 kB\u001b[0m \u001b[31m1.6 MB/s\u001b[0m eta \u001b[36m0:00:00\u001b[0m\n",
            "\u001b[?25hRequirement already satisfied: tensorflow>=2.1.0 in /usr/local/lib/python3.10/dist-packages (from keras-rl2==1.0.4) (2.8.0)\n",
            "Requirement already satisfied: absl-py>=0.4.0 in /usr/local/lib/python3.10/dist-packages (from tensorflow>=2.1.0->keras-rl2==1.0.4) (1.4.0)\n",
            "Requirement already satisfied: astunparse>=1.6.0 in /usr/local/lib/python3.10/dist-packages (from tensorflow>=2.1.0->keras-rl2==1.0.4) (1.6.3)\n",
            "Requirement already satisfied: flatbuffers>=1.12 in /usr/local/lib/python3.10/dist-packages (from tensorflow>=2.1.0->keras-rl2==1.0.4) (23.5.26)\n",
            "Requirement already satisfied: gast>=0.2.1 in /usr/local/lib/python3.10/dist-packages (from tensorflow>=2.1.0->keras-rl2==1.0.4) (0.5.4)\n",
            "Requirement already satisfied: google-pasta>=0.1.1 in /usr/local/lib/python3.10/dist-packages (from tensorflow>=2.1.0->keras-rl2==1.0.4) (0.2.0)\n",
            "Requirement already satisfied: h5py>=2.9.0 in /usr/local/lib/python3.10/dist-packages (from tensorflow>=2.1.0->keras-rl2==1.0.4) (3.9.0)\n",
            "Requirement already satisfied: keras-preprocessing>=1.1.1 in /usr/local/lib/python3.10/dist-packages (from tensorflow>=2.1.0->keras-rl2==1.0.4) (1.1.2)\n",
            "Requirement already satisfied: libclang>=9.0.1 in /usr/local/lib/python3.10/dist-packages (from tensorflow>=2.1.0->keras-rl2==1.0.4) (16.0.6)\n",
            "Requirement already satisfied: numpy>=1.20 in /usr/local/lib/python3.10/dist-packages (from tensorflow>=2.1.0->keras-rl2==1.0.4) (1.25.2)\n",
            "Requirement already satisfied: opt-einsum>=2.3.2 in /usr/local/lib/python3.10/dist-packages (from tensorflow>=2.1.0->keras-rl2==1.0.4) (3.3.0)\n",
            "Requirement already satisfied: protobuf>=3.9.2 in /usr/local/lib/python3.10/dist-packages (from tensorflow>=2.1.0->keras-rl2==1.0.4) (3.20.3)\n",
            "Requirement already satisfied: setuptools in /usr/local/lib/python3.10/dist-packages (from tensorflow>=2.1.0->keras-rl2==1.0.4) (67.7.2)\n",
            "Requirement already satisfied: six>=1.12.0 in /usr/local/lib/python3.10/dist-packages (from tensorflow>=2.1.0->keras-rl2==1.0.4) (1.16.0)\n",
            "Requirement already satisfied: termcolor>=1.1.0 in /usr/local/lib/python3.10/dist-packages (from tensorflow>=2.1.0->keras-rl2==1.0.4) (2.4.0)\n",
            "Requirement already satisfied: typing-extensions>=3.6.6 in /usr/local/lib/python3.10/dist-packages (from tensorflow>=2.1.0->keras-rl2==1.0.4) (4.9.0)\n",
            "Requirement already satisfied: wrapt>=1.11.0 in /usr/local/lib/python3.10/dist-packages (from tensorflow>=2.1.0->keras-rl2==1.0.4) (1.14.1)\n",
            "Requirement already satisfied: tensorboard<2.9,>=2.8 in /usr/local/lib/python3.10/dist-packages (from tensorflow>=2.1.0->keras-rl2==1.0.4) (2.8.0)\n",
            "Requirement already satisfied: tf-estimator-nightly==2.8.0.dev2021122109 in /usr/local/lib/python3.10/dist-packages (from tensorflow>=2.1.0->keras-rl2==1.0.4) (2.8.0.dev2021122109)\n",
            "Requirement already satisfied: keras<2.9,>=2.8.0rc0 in /usr/local/lib/python3.10/dist-packages (from tensorflow>=2.1.0->keras-rl2==1.0.4) (2.8.0)\n",
            "Requirement already satisfied: tensorflow-io-gcs-filesystem>=0.23.1 in /usr/local/lib/python3.10/dist-packages (from tensorflow>=2.1.0->keras-rl2==1.0.4) (0.36.0)\n",
            "Requirement already satisfied: grpcio<2.0,>=1.24.3 in /usr/local/lib/python3.10/dist-packages (from tensorflow>=2.1.0->keras-rl2==1.0.4) (1.60.1)\n",
            "Requirement already satisfied: wheel<1.0,>=0.23.0 in /usr/local/lib/python3.10/dist-packages (from astunparse>=1.6.0->tensorflow>=2.1.0->keras-rl2==1.0.4) (0.42.0)\n",
            "Requirement already satisfied: google-auth<3,>=1.6.3 in /usr/local/lib/python3.10/dist-packages (from tensorboard<2.9,>=2.8->tensorflow>=2.1.0->keras-rl2==1.0.4) (2.27.0)\n",
            "Requirement already satisfied: google-auth-oauthlib<0.5,>=0.4.1 in /usr/local/lib/python3.10/dist-packages (from tensorboard<2.9,>=2.8->tensorflow>=2.1.0->keras-rl2==1.0.4) (0.4.6)\n",
            "Requirement already satisfied: markdown>=2.6.8 in /usr/local/lib/python3.10/dist-packages (from tensorboard<2.9,>=2.8->tensorflow>=2.1.0->keras-rl2==1.0.4) (3.5.2)\n",
            "Requirement already satisfied: requests<3,>=2.21.0 in /usr/local/lib/python3.10/dist-packages (from tensorboard<2.9,>=2.8->tensorflow>=2.1.0->keras-rl2==1.0.4) (2.31.0)\n",
            "Requirement already satisfied: tensorboard-data-server<0.7.0,>=0.6.0 in /usr/local/lib/python3.10/dist-packages (from tensorboard<2.9,>=2.8->tensorflow>=2.1.0->keras-rl2==1.0.4) (0.6.1)\n",
            "Requirement already satisfied: tensorboard-plugin-wit>=1.6.0 in /usr/local/lib/python3.10/dist-packages (from tensorboard<2.9,>=2.8->tensorflow>=2.1.0->keras-rl2==1.0.4) (1.8.1)\n",
            "Requirement already satisfied: werkzeug>=0.11.15 in /usr/local/lib/python3.10/dist-packages (from tensorboard<2.9,>=2.8->tensorflow>=2.1.0->keras-rl2==1.0.4) (3.0.1)\n",
            "Requirement already satisfied: cachetools<6.0,>=2.0.0 in /usr/local/lib/python3.10/dist-packages (from google-auth<3,>=1.6.3->tensorboard<2.9,>=2.8->tensorflow>=2.1.0->keras-rl2==1.0.4) (5.3.2)\n",
            "Requirement already satisfied: pyasn1-modules>=0.2.1 in /usr/local/lib/python3.10/dist-packages (from google-auth<3,>=1.6.3->tensorboard<2.9,>=2.8->tensorflow>=2.1.0->keras-rl2==1.0.4) (0.3.0)\n",
            "Requirement already satisfied: rsa<5,>=3.1.4 in /usr/local/lib/python3.10/dist-packages (from google-auth<3,>=1.6.3->tensorboard<2.9,>=2.8->tensorflow>=2.1.0->keras-rl2==1.0.4) (4.9)\n",
            "Requirement already satisfied: requests-oauthlib>=0.7.0 in /usr/local/lib/python3.10/dist-packages (from google-auth-oauthlib<0.5,>=0.4.1->tensorboard<2.9,>=2.8->tensorflow>=2.1.0->keras-rl2==1.0.4) (1.3.1)\n",
            "Requirement already satisfied: charset-normalizer<4,>=2 in /usr/local/lib/python3.10/dist-packages (from requests<3,>=2.21.0->tensorboard<2.9,>=2.8->tensorflow>=2.1.0->keras-rl2==1.0.4) (3.3.2)\n",
            "Requirement already satisfied: idna<4,>=2.5 in /usr/local/lib/python3.10/dist-packages (from requests<3,>=2.21.0->tensorboard<2.9,>=2.8->tensorflow>=2.1.0->keras-rl2==1.0.4) (3.6)\n",
            "Requirement already satisfied: urllib3<3,>=1.21.1 in /usr/local/lib/python3.10/dist-packages (from requests<3,>=2.21.0->tensorboard<2.9,>=2.8->tensorflow>=2.1.0->keras-rl2==1.0.4) (2.0.7)\n",
            "Requirement already satisfied: certifi>=2017.4.17 in /usr/local/lib/python3.10/dist-packages (from requests<3,>=2.21.0->tensorboard<2.9,>=2.8->tensorflow>=2.1.0->keras-rl2==1.0.4) (2024.2.2)\n",
            "Requirement already satisfied: MarkupSafe>=2.1.1 in /usr/local/lib/python3.10/dist-packages (from werkzeug>=0.11.15->tensorboard<2.9,>=2.8->tensorflow>=2.1.0->keras-rl2==1.0.4) (2.1.5)\n",
            "Requirement already satisfied: pyasn1<0.6.0,>=0.4.6 in /usr/local/lib/python3.10/dist-packages (from pyasn1-modules>=0.2.1->google-auth<3,>=1.6.3->tensorboard<2.9,>=2.8->tensorflow>=2.1.0->keras-rl2==1.0.4) (0.5.1)\n",
            "Requirement already satisfied: oauthlib>=3.0.0 in /usr/local/lib/python3.10/dist-packages (from requests-oauthlib>=0.7.0->google-auth-oauthlib<0.5,>=0.4.1->tensorboard<2.9,>=2.8->tensorflow>=2.1.0->keras-rl2==1.0.4) (3.2.2)\n",
            "Installing collected packages: keras-rl2\n",
            "Successfully installed keras-rl2-1.0.4\n"
          ]
        }
      ],
      "source": [
        "!pip install tensorflow==2.8.0\n",
        "# !pip install gym\n",
        "# !pip install keras\n",
        "!pip install keras-rl2==1.0.4\n"
      ]
    },
    {
      "cell_type": "code",
      "execution_count": 2,
      "metadata": {
        "id": "V-ePh3NDEWuc",
        "colab": {
          "base_uri": "https://localhost:8080/"
        },
        "outputId": "3a07511a-fdb0-465a-de7d-a92b52271f8f"
      },
      "outputs": [
        {
          "output_type": "stream",
          "name": "stderr",
          "text": [
            "/usr/local/lib/python3.10/dist-packages/tensorflow/python/framework/dtypes.py:205: DeprecationWarning: `np.bool8` is a deprecated alias for `np.bool_`.  (Deprecated NumPy 1.24)\n",
            "  np.bool8: (False, True),\n",
            "/usr/local/lib/python3.10/dist-packages/tensorboard/compat/tensorflow_stub/dtypes.py:326: DeprecationWarning: `np.bool8` is a deprecated alias for `np.bool_`.  (Deprecated NumPy 1.24)\n",
            "  np.bool8: (False, True),\n"
          ]
        }
      ],
      "source": [
        "from gym import Env\n",
        "from gym.spaces import MultiBinary, Discrete\n",
        "import numpy as np\n",
        "import random\n",
        "\n",
        "\n",
        "# Model things.\n",
        "import tensorflow as tf\n",
        "from tensorflow.keras.models import Sequential\n",
        "from tensorflow.keras.layers import LSTM, Dense, Reshape, Masking\n",
        "from tensorflow.keras.optimizers import Adam\n",
        "\n",
        "\n",
        "# ImportError: cannot import name '__version__' from 'tensorflow.keras' (.local/lib/python3.8/site-packages/keras/api/_v2/keras/__init__.py)\n",
        "# To solve the above error for my local system. adding the following lines.\n",
        "import tensorflow as tf\n",
        "from keras import __version__\n",
        "tf.keras.__version__ = __version__\n",
        "\n",
        "# Agent things.\n",
        "from rl.agents import DQNAgent\n",
        "from rl.policy import BoltzmannQPolicy\n",
        "from rl.memory import SequentialMemory\n",
        "\n"
      ]
    },
    {
      "cell_type": "code",
      "execution_count": 3,
      "metadata": {
        "colab": {
          "base_uri": "https://localhost:8080/",
          "height": 90
        },
        "id": "2oz8TLx3orhJ",
        "outputId": "e0f68e4b-6501-42a0-d8a1-1f2b2ed190b6"
      },
      "outputs": [
        {
          "output_type": "stream",
          "name": "stderr",
          "text": [
            "/usr/local/lib/python3.10/dist-packages/ipykernel/ipkernel.py:283: DeprecationWarning: `should_run_async` will not call `transform_cell` automatically in the future. Please pass the result to `transformed_cell` argument and any exception that happen during thetransform in `preprocessing_exc_tuple` in IPython 7.17 and above.\n",
            "  and should_run_async(code)\n"
          ]
        },
        {
          "output_type": "execute_result",
          "data": {
            "text/plain": [
              "'2.8.0'"
            ],
            "application/vnd.google.colaboratory.intrinsic+json": {
              "type": "string"
            }
          },
          "metadata": {},
          "execution_count": 3
        }
      ],
      "source": [
        "tf.__version__"
      ]
    },
    {
      "cell_type": "code",
      "execution_count": 12,
      "metadata": {
        "id": "z7TyRLikEkcH"
      },
      "outputs": [],
      "source": [
        "\n",
        "class HangmanEnv(Env):\n",
        "    \"\"\"\n",
        "    Class which acts as a Hangman environment where the learner can interact with.\n",
        "    \"\"\"\n",
        "\n",
        "    def __init__(self, word: str) -> None:\n",
        "        \"\"\"\n",
        "        Initialize the Hangman environment.\n",
        "        \"\"\"\n",
        "        self.actual_word: str = word.lower()\n",
        "        self.number_of_letters: int = len(self.actual_word)\n",
        "        self.encoded_word: list[int] = [ord(letter) - 97 for letter in self.actual_word] # ord('a') = 97. I want 0 - a , 1 - b etc.\n",
        "        self.letters_already_guessed: set[int] = set()\n",
        "        self.gussed_prerior = set()\n",
        "        self.guess = []\n",
        "        self.letters_left_to_find = len(self.actual_word)\n",
        "        # self.\n",
        "        # Track the game, is done or not.\n",
        "        self.guesses_left: int = 6\n",
        "        # Actions we can take -- Chose any letter from a - z.\n",
        "        self.action_space = Discrete(26)\n",
        "        # Observation space --\n",
        "        self.observation_space = MultiBinary((30, 27))\n",
        "        # Set the starting state -- the starting state of the Hangman environment. (The initial input)\n",
        "        self.state = self.create_state()\n",
        "\n",
        "    def create_state(self):\n",
        "        \"\"\"\n",
        "        Creates the initial state, the first input to out model.\n",
        "        Should be a 3D array, since we are gonna use the LSTM model.\n",
        "        * (n + 1, 27): n + 1 -- number of letters in the word + one rows extra which represents the letters already guessed.\n",
        "        \"\"\"\n",
        "        encoded_word = self.encode_word() # (n, 27)\n",
        "        encoded_already_guessed_letters = self.encode_already_guessed_letters() # (27,)\n",
        "        word = np.append(encoded_word, [encoded_already_guessed_letters], axis=0)\n",
        "        # Create the padding rows.\n",
        "        # Create a 40 - (n+1) rows numpy array filled with '-1'.\n",
        "        balance_row = 40 - (len(self.actual_word) + 1)\n",
        "        pading_row = np.full((balance_row, 27), -1)\n",
        "\n",
        "        return np.append(word, pading_row, axis=0)\n",
        "\n",
        "    def encode_already_guessed_letters(self):\n",
        "        \"\"\"\n",
        "\n",
        "        Encode already guessed letters.\n",
        "        Create a 1 x 27 vector where 1s indicate that the letter was previously guessed.\n",
        "        \"\"\"\n",
        "        guess = np.zeros(27, dtype=np.float32)\n",
        "        for i in self.letters_already_guessed:\n",
        "            guess[i] = 1\n",
        "        return guess\n",
        "\n",
        "    def encode_word(self):\n",
        "        \"\"\"\n",
        "        Encode the original word into n x 27 numpy array. [n - number of letters in the original word,\n",
        "        26 represents the number of letters and 27th represents it's a blank space.]\n",
        "        \"\"\"\n",
        "        word: list[int] = [ascii_letter if ascii_letter in self.letters_already_guessed else 26 for ascii_letter in self.encoded_word]\n",
        "        encoded_word = np.zeros((len(word), 27), dtype=np.float32)\n",
        "        for i, j in enumerate(word):\n",
        "            encoded_word[i, j] = 1\n",
        "        return encoded_word\n",
        "\n",
        "    def step(self, action):\n",
        "        \"\"\"\n",
        "        Apply the action and get the reward for it.\n",
        "\n",
        "        :param action: The action to take. Here deciding the chosen letter's value.\n",
        "                       If the choose word is in the original word, encode it and change the state.\n",
        "                       If not, keep the state unchanged and decrease the guesses_left.\n",
        "                       Edit the guessed word in both the cases.\n",
        "        \"\"\"\n",
        "        # print(\"action taken {}\".format(action))\n",
        "        guessed_letter = action\n",
        "\n",
        "        # Store the letters guessed by the model.\n",
        "        self.guess.append(guessed_letter)\n",
        "        self.letters_already_guessed.add(guessed_letter)\n",
        "\n",
        "        # Step 1: Decide the action value.\n",
        "        # Case 1: If the guessed word is in original word.\n",
        "        #         Encode and change the state.\n",
        "        # Case 2: If the guessed word is not in original word.\n",
        "        #         Change the state and decrease the guesses_left.\n",
        "\n",
        "        self.state = self.create_state()\n",
        "\n",
        "        #print(f\"letters already gussed {self.letters_already_guessed}\")\n",
        "        if not guessed_letter in self.encoded_word and guessed_letter not in self.gussed_prerior:\n",
        "            self.guesses_left -= 1\n",
        "\n",
        "        # Step 2: Get the corresponding reward.\n",
        "        # Case 1: If the guessed word is present in our original word and if it's not guessed before means, give the possitive reward.\n",
        "        #         The reward will be added is, number of times the correct present in the actual word.\n",
        "\n",
        "        # Case 2: If the guessed word not present in the actual word means, give the negative reward. (-1)\n",
        "\n",
        "        if guessed_letter in self.encoded_word and guessed_letter not in self.gussed_prerior:\n",
        "\n",
        "            number_of_correct_rewards = self.encoded_word.count(guessed_letter)\n",
        "            self.letters_left_to_find -= number_of_correct_rewards\n",
        "            #print(\"letters left to find {}\".format(self.letters_left_to_find))\n",
        "            reward: int = number_of_correct_rewards\n",
        "        else:\n",
        "            reward: int = -1\n",
        "\n",
        "        # Store the guessed letter, this will help as to determine the rewards.\n",
        "        self.gussed_prerior.add(guessed_letter)\n",
        "\n",
        "\n",
        "        # Step 3: Deicide the game is done or not.\n",
        "        if self.guesses_left == 0 or self.letters_left_to_find <= 0:\n",
        "            done: bool = True\n",
        "        else:\n",
        "            done: bool = False\n",
        "\n",
        "        # Step 4: Generate the info message.\n",
        "        # We can just put the placeholder for it, for now.\n",
        "        info: dict = {}\n",
        "\n",
        "        return self.state, reward, done, info\n",
        "\n",
        "    def render(self):\n",
        "        \"\"\"\n",
        "        This function is used to display the game, nothing to show for now leaving it empty.\n",
        "        \"\"\"\n",
        "        pass\n",
        "\n",
        "    def reset(self):\n",
        "        \"\"\"\n",
        "        Reset the game environment to the beginning state and return the beginning state.\n",
        "        \"\"\"\n",
        "        # print(\"Called teh reset method \")\n",
        "        #print(\"**\"*50)\n",
        "        self.guess = []\n",
        "        self.gussed_prerior = set()\n",
        "        self.letters_left_to_find = len(self.actual_word)\n",
        "        self.letters_already_guessed = set()\n",
        "        self.state = self.create_state()\n",
        "        self.guesses_left = 6\n",
        "\n",
        "        return self.state\n"
      ]
    },
    {
      "cell_type": "code",
      "execution_count": 13,
      "metadata": {
        "colab": {
          "base_uri": "https://localhost:8080/"
        },
        "id": "RZx-wU0qFbxo",
        "outputId": "9e1014e0-9158-4cc9-a26c-11a20798a3a8"
      },
      "outputs": [
        {
          "output_type": "stream",
          "name": "stdout",
          "text": [
            "The total score1\n",
            "----------------------------------------------------------------------------------------------------\n",
            "The total score0\n",
            "----------------------------------------------------------------------------------------------------\n",
            "The total score1\n",
            "----------------------------------------------------------------------------------------------------\n",
            "The total score2\n",
            "----------------------------------------------------------------------------------------------------\n",
            "The total score1\n",
            "----------------------------------------------------------------------------------------------------\n",
            "The total score0\n",
            "----------------------------------------------------------------------------------------------------\n",
            "The total score-1\n",
            "----------------------------------------------------------------------------------------------------\n",
            "The total score-2\n",
            "----------------------------------------------------------------------------------------------------\n",
            "The total score-3\n",
            "----------------------------------------------------------------------------------------------------\n",
            "The total score-4\n",
            "----------------------------------------------------------------------------------------------------\n",
            "The total score-5\n",
            "----------------------------------------------------------------------------------------------------\n"
          ]
        }
      ],
      "source": [
        "env = HangmanEnv('appartment')\n",
        "env.action_space.n\n",
        "\n",
        "\n",
        "done = False\n",
        "score = 0\n",
        "while not done:\n",
        "    #action = int(input())\n",
        "    action = env.action_space.sample()\n",
        "    observation, reward, done, info = env.step(action)\n",
        "    score += reward\n",
        "    print(f\"The total score{score}\")\n",
        "    print(\"--\"*50)\n",
        "\n",
        "env.close()\n"
      ]
    },
    {
      "cell_type": "code",
      "execution_count": null,
      "metadata": {
        "colab": {
          "base_uri": "https://localhost:8080/"
        },
        "id": "jQS2O1wIFuDb",
        "outputId": "20450bcb-ba28-4fd7-9f05-c26bc99f0fe0"
      },
      "outputs": [
        {
          "output_type": "execute_result",
          "data": {
            "text/plain": [
              "227300"
            ]
          },
          "metadata": {},
          "execution_count": 7
        }
      ],
      "source": [
        "# Get the input from the text file.\n",
        "file_path = \"/content/drive/MyDrive/Colab Notebooks/Hangman/words_250000_train.txt\"\n",
        "words_list: list = []\n",
        "w:dict = {}\n",
        "with open(file_path, 'r') as file:\n",
        "    for line in file:\n",
        "        # Trim the words and remove the words that are not only alphabets.\n",
        "        word = line.strip()\n",
        "        if len(word) > 0 and word.isalpha() and word not in w:\n",
        "            words_list.append(word)\n",
        "            w[word] = 1\n",
        "len(words_list)"
      ]
    },
    {
      "cell_type": "code",
      "source": [
        "# Clean the words file, select only correct spelling words.\n",
        "\n",
        "\n",
        "# from nltk.corpus import words\n",
        "# import nltk\n",
        "# nltk.download('words')\n",
        "# english_words = words.words()\n",
        "# w = []\n",
        "# #word_checker = enchant.Dict(\"en_US\")\n",
        "# for word in words_list:\n",
        "#     if  word in english_words:\n",
        "#       w.append(word)\n"
      ],
      "metadata": {
        "id": "JZVAyfOC1ZSC"
      },
      "execution_count": null,
      "outputs": []
    },
    {
      "cell_type": "code",
      "source": [
        "# Store the Words in a pickle file for later use.\n",
        "\n",
        "\n",
        "# import pickle\n",
        "# with open(\"my_file.pickle\", \"wb\") as f:\n",
        "#   pickle.dump(w, f)"
      ],
      "metadata": {
        "id": "oFhZfg5S5uRV"
      },
      "execution_count": null,
      "outputs": []
    },
    {
      "cell_type": "code",
      "source": [
        "# Load the words from the pickle file.\n",
        "import pickle\n",
        "with open(\"/content/my_file.pickle\", \"rb\") as f:\n",
        "    words = pickle.load(f)\n"
      ],
      "metadata": {
        "id": "wl2xd2Dv7cPq"
      },
      "execution_count": null,
      "outputs": []
    },
    {
      "cell_type": "code",
      "execution_count": null,
      "metadata": {
        "colab": {
          "base_uri": "https://localhost:8080/"
        },
        "id": "YJlKlnfaFza5",
        "outputId": "ebe02eef-c74b-4559-819f-14442233a27f"
      },
      "outputs": [
        {
          "output_type": "stream",
          "name": "stdout",
          "text": [
            "Training with 84363 words...\n",
            "Max word length: 24!\n",
            "Splitting train and test data...\n",
            "Train data length -- 84363\n",
            "Train data length -- 21091\n"
          ]
        }
      ],
      "source": [
        "train_val_split_idx = int((len(words)) * 0.8)\n",
        "print('Training with {} words...'.format(train_val_split_idx))\n",
        "\n",
        "max_num_of_letters = max([len(i) for i in words[:train_val_split_idx]])\n",
        "epoch_size = train_val_split_idx\n",
        "Epoches_count = 5\n",
        "batch_size = np.array([len(i) for i in words[:train_val_split_idx]]).mean()\n",
        "print(\"Max word length: {}!\".format(max_num_of_letters))\n",
        "\n",
        "\n",
        "# Split train and test data\n",
        "print(\"Splitting train and test data...\")\n",
        "train , test = words[:train_val_split_idx], words[train_val_split_idx:]\n",
        "train_len = len(train)\n",
        "test_len = len(test)\n",
        "print(f\"Train data length -- {train_len}\")\n",
        "print(f\"Train data length -- {test_len}\")\n",
        "\n",
        "# The number of actions a agent can take. here guessing a letter from a - z.\n",
        "actions = 26"
      ]
    },
    {
      "cell_type": "code",
      "execution_count": null,
      "metadata": {
        "colab": {
          "base_uri": "https://localhost:8080/"
        },
        "id": "xbflbMpYF0kV",
        "outputId": "179d66c9-faf7-4487-984c-6979bb20e165"
      },
      "outputs": [
        {
          "output_type": "stream",
          "name": "stdout",
          "text": [
            "Model: \"sequential_1\"\n",
            "_________________________________________________________________\n",
            " Layer (type)                Output Shape              Param #   \n",
            "=================================================================\n",
            " reshape_1 (Reshape)         (None, 40, 27)            0         \n",
            "                                                                 \n",
            " masking_1 (Masking)         (None, 40, 27)            0         \n",
            "                                                                 \n",
            " lstm_2 (LSTM)               (None, 40, 27)            5940      \n",
            "                                                                 \n",
            " lstm_3 (LSTM)               (None, 27)                5940      \n",
            "                                                                 \n",
            " dense_2 (Dense)             (None, 26)                728       \n",
            "                                                                 \n",
            "=================================================================\n",
            "Total params: 12,608\n",
            "Trainable params: 12,608\n",
            "Non-trainable params: 0\n",
            "_________________________________________________________________\n"
          ]
        }
      ],
      "source": [
        "# Create the model.\n",
        "def create_model(state_shape, action_shape):\n",
        "    \"\"\"\n",
        "    Build the sequential model.\n",
        "\n",
        "    :param state_shape: The shape of the state. (shape of the input)\n",
        "    :param action_shape: The shape of the action. (shape of the output)\n",
        "    \"\"\"\n",
        "    model = Sequential()\n",
        "\n",
        "    # Reshaing because the keral-rl adds one extra dimentions to the input. Which will be a 4d array in the shape of (1,1, n_timestamp, n_features).\n",
        "    # But LSTM Accepts the input as 3d array. (n_batch, n_timestamp, n_features).\n",
        "    model.add(Reshape((40, 27), input_shape=(1, 40, 27)))\n",
        "\n",
        "    # Add the masking layer. -- masking value i can kept is -1.\n",
        "    model.add(Masking(mask_value=-1))\n",
        "\n",
        "    # add one layer of lstm and dropout regularization.\n",
        "    model.add(LSTM(27, return_sequences=True, input_shape=(None,None,27), dropout=0.2))\n",
        "\n",
        "    # add one layer of lstm and dropout regularization.\n",
        "    model.add(LSTM(27, dropout=0.2))\n",
        "\n",
        "    # output layer.\n",
        "    model.add(Dense(action_shape, activation='linear')) # pick a letter out of 26.\n",
        "\n",
        "    return model\n",
        "model = create_model(0, actions)\n",
        "model.summary()"
      ]
    },
    {
      "cell_type": "code",
      "execution_count": null,
      "metadata": {
        "id": "_RfdnEfKF_9k"
      },
      "outputs": [],
      "source": [
        "# tf.compat.v1.disable_eager_execution()\n",
        "# tf.compat.v1.experimental.output_all_intermediates(True)\n",
        "tf.compat.v1.disable_eager_execution()\n"
      ]
    },
    {
      "cell_type": "code",
      "execution_count": null,
      "metadata": {
        "id": "6IUMib5KVnRu"
      },
      "outputs": [],
      "source": [
        "# Not possible to train with all the words, since the model taking so long time to train.\n",
        "# So making a group of 26 having starting letter same and taking 100 from each.\n",
        "# d = {'a': [],'b': [],'c': [],'d': [],'e': [],'f': [],'g':[],'h':[],'i':[],'j':[],'k':[],\n",
        "#      'l':[],'m':[],'n':[],'o':[],'p':[],'q':[],'r':[],'s':[],'t':[],'u':[],'v':[],'w':[],'x':[],'y':[],'z':[]}\n",
        "\n",
        "# for w in words:\n",
        "#   for alpahet in d.keys():\n",
        "#     if w.startswith(alpahet):\n",
        "#       d[alpahet].append(w)\n",
        "#       break\n",
        "# d\n",
        "# import pickle\n",
        "# with open(\"words_ordered.pickle\", \"wb\") as f:\n",
        "#   pickle.dump(d, f)\n",
        "# with open(\"/content/words_ordered.pickle\", \"rb\") as f:\n",
        "#     words_ordered = pickle.load(f)\n",
        "# words_trainable = []\n",
        "# for k in words_ordered.keys():\n",
        "#   words_trainable.extend(words_ordered[k][:100])\n",
        "# len(words_trainable)\n",
        "# import pickle\n",
        "# with open(\"words_choosen.pickle\", \"wb\") as f:\n",
        "#   pickle.dump(words_trainable, f)\n",
        "\n",
        "with open(\"/content/words_choosen.pickle\", \"rb\") as f:\n",
        "    words = pickle.load(f)"
      ]
    },
    {
      "cell_type": "code",
      "source": [
        "import random\n",
        "print(\"Splitting train and test data...\")\n",
        "random.shuffle(words)\n",
        "train_val_split_idx = int((len(words)) * 0.8)\n",
        "train , test = words[:train_val_split_idx], words[train_val_split_idx:]\n",
        "train_len = len(train)\n",
        "test_len = len(test)\n",
        "print(f\"Train data length -- {train_len}\")\n",
        "print(f\"Train data length -- {test_len}\")"
      ],
      "metadata": {
        "colab": {
          "base_uri": "https://localhost:8080/"
        },
        "id": "bXAd_rPy-V_p",
        "outputId": "0169fa6c-2687-4a49-e6a8-f1e3399b1e68"
      },
      "execution_count": null,
      "outputs": [
        {
          "output_type": "stream",
          "name": "stdout",
          "text": [
            "Splitting train and test data...\n",
            "Train data length -- 2080\n",
            "Train data length -- 520\n"
          ]
        }
      ]
    },
    {
      "cell_type": "code",
      "execution_count": null,
      "metadata": {
        "id": "gS26eMBqF2j0"
      },
      "outputs": [],
      "source": [
        "# Build the agent with keras rl.\n",
        "import keras\n",
        "\n",
        "def build_agent(model, actions):\n",
        "    policy = BoltzmannQPolicy()\n",
        "    memory = SequentialMemory(limit=50000, window_length=1)\n",
        "    dqn = DQNAgent(model=model, memory=memory, policy=policy,\n",
        "                  nb_actions=actions, nb_steps_warmup=100, target_model_update=1e-2)\n",
        "    return dqn\n",
        "\n",
        "dqn = build_agent(model, actions)\n",
        "\n",
        "dqn.compile(tf.keras.optimizers.Adam(learning_rate=1e-3),metrics=[keras.metrics.CategoricalCrossentropy()])\n",
        "\n",
        "\n",
        "\n",
        "# NUM_EPOCHS = 10\n",
        "# for epoch in range(NUM_EPOCHS):\n",
        "\n",
        "#   dqn.fit(enviroment, nb_steps=1000, visualize=False, verbose=1)\n",
        "# total_samples = 0\n",
        "\n",
        "train = train[10:1000]\n",
        "# the actual training happening here.\n",
        "for epoch in range(Epoches_count):\n",
        "    for i in range(len(train)):\n",
        "        word = train[i]\n",
        "        print(\">>\"*50)\n",
        "        print(\"EPOCH {}\".format(epoch))\n",
        "        print(\">>\"*50)\n",
        "        print(\"THe word which is training is ....{}, index {}\".format(word, i))\n",
        "        print(\">>\"*50)\n",
        "\n",
        "\n",
        "        enviroment = HangmanEnv(word = word)\n",
        "\n",
        "        dqn.fit(enviroment, nb_steps=1000, visualize=False, verbose=1)\n",
        "#   dqn.fit(enviroment, nb_steps=1000, visualize=False, verbose=1)\n",
        "# total_samples = 0\n",
        "\n",
        "train = train[15:1000]\n",
        "# the actual training happening here.\n",
        "for epoch in range(Epoches_count):\n",
        "    for i in range(len(train)):\n",
        "        word = train[i]\n",
        "        print(\">>\"*50)\n",
        "        print(\"EPOCH {}\".format(epoch))\n",
        "        print(\">>\"*50)\n",
        "\n",
        "    file_name = f'/content/drive/MyDrive/Colab Notebooks/Hangman/dqn_weights{epoch}.h5f'\n",
        "    dqn.save_weights(file_name, overwrite=True)"
      ]
    },
    {
      "cell_type": "code",
      "execution_count": null,
      "metadata": {
        "id": "T2yTSguAx-GG"
      },
      "outputs": [],
      "source": []
    },
    {
      "cell_type": "code",
      "execution_count": null,
      "metadata": {
        "id": "F6LAh-fA786o"
      },
      "outputs": [],
      "source": [
        "dqn.save_weights('dqn_weights.h5f', overwrite=True)\n"
      ]
    },
    {
      "cell_type": "code",
      "execution_count": null,
      "metadata": {
        "colab": {
          "base_uri": "https://localhost:8080/"
        },
        "id": "gqATnmfY3ia1",
        "outputId": "3b740c5f-277a-41dd-a746-f37585091b80"
      },
      "outputs": [
        {
          "name": "stdout",
          "output_type": "stream",
          "text": [
            "Testing for 10 episodes ...\n",
            "Episode 1: reward: 6.000, steps: 5\n",
            "Episode 2: reward: 6.000, steps: 5\n",
            "Episode 3: reward: 6.000, steps: 5\n",
            "Episode 4: reward: 6.000, steps: 5\n",
            "Episode 5: reward: 6.000, steps: 5\n",
            "Episode 6: reward: 6.000, steps: 5\n",
            "Episode 7: reward: 6.000, steps: 5\n",
            "Episode 8: reward: 6.000, steps: 5\n",
            "Episode 9: reward: 6.000, steps: 5\n",
            "Episode 10: reward: 6.000, steps: 5\n",
            "6.0\n"
          ]
        }
      ],
      "source": [
        "e = HangmanEnv(\"aachen\")\n",
        "scores = dqn.test(e, nb_episodes=10, visualize=False)\n",
        "print(np.mean(scores.history['episode_reward']))\n"
      ]
    },
    {
      "cell_type": "code",
      "execution_count": null,
      "metadata": {
        "id": "IIzRLQKjBtpA"
      },
      "outputs": [],
      "source": [
        "# dqn.save_weights('dqn_weights.h5f', overwrite=True)\n",
        "# del model\n",
        "# del dqn\n",
        "# del env"
      ]
    },
    {
      "cell_type": "code",
      "execution_count": null,
      "metadata": {
        "id": "fToBN8FPBEnI"
      },
      "outputs": [],
      "source": [
        "# env = gym.make('CartPole-v0')\n",
        "# actions = env.action_space.n\n",
        "# states = env.observation_space.shape[0]\n",
        "# model = build_model(states, actions)\n",
        "# dqn = build_agent(model, actions)\n",
        "# dqn.compile(Adam(lr=1e-3), metrics=[])\n",
        "# dqn.load_weights('dqn_weights.h5f')\n",
        "# _ = dqn.test(env, nb_episodes=5, visualize=True)\n"
      ]
    },
    {
      "cell_type": "code",
      "source": [],
      "metadata": {
        "id": "dkH4CAyJEo4M"
      },
      "execution_count": null,
      "outputs": []
    }
  ],
  "metadata": {
    "colab": {
      "provenance": []
    },
    "kernelspec": {
      "display_name": "Python 3",
      "name": "python3"
    },
    "language_info": {
      "name": "python"
    }
  },
  "nbformat": 4,
  "nbformat_minor": 0
}